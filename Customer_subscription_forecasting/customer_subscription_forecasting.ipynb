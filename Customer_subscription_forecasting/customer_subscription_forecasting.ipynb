{
 "cells": [
  {
   "cell_type": "markdown",
   "metadata": {},
   "source": [
    "Importing packages"
   ]
  },
  {
   "cell_type": "code",
   "execution_count": 9,
   "metadata": {},
   "outputs": [
    {
     "data": {
      "text/html": [
       "    <style>\n",
       "        .bk-notebook-logo {\n",
       "            display: block;\n",
       "            width: 20px;\n",
       "            height: 20px;\n",
       "            background-image: url(data:image/png;base64,iVBORw0KGgoAAAANSUhEUgAAABQAAAAUCAYAAACNiR0NAAAABHNCSVQICAgIfAhkiAAAAAlwSFlzAAALEgAACxIB0t1+/AAAABx0RVh0U29mdHdhcmUAQWRvYmUgRmlyZXdvcmtzIENTNui8sowAAAOkSURBVDiNjZRtaJVlGMd/1/08zzln5zjP1LWcU9N0NkN8m2CYjpgQYQXqSs0I84OLIC0hkEKoPtiH3gmKoiJDU7QpLgoLjLIQCpEsNJ1vqUOdO7ppbuec5+V+rj4ctwzd8IIbbi6u+8f1539dt3A78eXC7QizUF7gyV1fD1Yqg4JWz84yffhm0qkFqBogB9rM8tZdtwVsPUhWhGcFJngGeWrPzHm5oaMmkfEg1usvLFyc8jLRqDOMru7AyC8saQr7GG7f5fvDeH7Ej8CM66nIF+8yngt6HWaKh7k49Soy9nXurCi1o3qUbS3zWfrYeQDTB/Qj6kX6Ybhw4B+bOYoLKCC9H3Nu/leUTZ1JdRWkkn2ldcCamzrcf47KKXdAJllSlxAOkRgyHsGC/zRday5Qld9DyoM4/q/rUoy/CXh3jzOu3bHUVZeU+DEn8FInkPBFlu3+nW3Nw0mk6vCDiWg8CeJaxEwuHS3+z5RgY+YBR6V1Z1nxSOfoaPa4LASWxxdNp+VWTk7+4vzaou8v8PN+xo+KY2xsw6une2frhw05CTYOmQvsEhjhWjn0bmXPjpE1+kplmmkP3suftwTubK9Vq22qKmrBhpY4jvd5afdRA3wGjFAgcnTK2s4hY0/GPNIb0nErGMCRxWOOX64Z8RAC4oCXdklmEvcL8o0BfkNK4lUg9HTl+oPlQxdNo3Mg4Nv175e/1LDGzZen30MEjRUtmXSfiTVu1kK8W4txyV6BMKlbgk3lMwYCiusNy9fVfvvwMxv8Ynl6vxoByANLTWplvuj/nF9m2+PDtt1eiHPBr1oIfhCChQMBw6Aw0UulqTKZdfVvfG7VcfIqLG9bcldL/+pdWTLxLUy8Qq38heUIjh4XlzZxzQm19lLFlr8vdQ97rjZVOLf8nclzckbcD4wxXMidpX30sFd37Fv/GtwwhzhxGVAprjbg0gCAEeIgwCZyTV2Z1REEW8O4py0wsjeloKoMr6iCY6dP92H6Vw/oTyICIthibxjm/DfN9lVz8IqtqKYLUXfoKVMVQVVJOElGjrnnUt9T9wbgp8AyYKaGlqingHZU/uG2NTZSVqwHQTWkx9hxjkpWDaCg6Ckj5qebgBVbT3V3NNXMSiWSDdGV3hrtzla7J+duwPOToIg42ChPQOQjspnSlp1V+Gjdged7+8UN5CRAV7a5EdFNwCjEaBR27b3W890TE7g24NAP/mMDXRWrGoFPQI9ls/MWO2dWFAar/xcOIImbbpA3zgAAAABJRU5ErkJggg==);\n",
       "        }\n",
       "    </style>\n",
       "    <div>\n",
       "        <a href=\"https://bokeh.org\" target=\"_blank\" class=\"bk-notebook-logo\"></a>\n",
       "        <span id=\"b62a2e43-5b23-40b2-9b50-1af159778d87\">Loading BokehJS ...</span>\n",
       "    </div>\n"
      ]
     },
     "metadata": {},
     "output_type": "display_data"
    },
    {
     "data": {
      "application/javascript": "(function(root) {\n  function now() {\n    return new Date();\n  }\n\n  const force = true;\n\n  if (typeof root._bokeh_onload_callbacks === \"undefined\" || force === true) {\n    root._bokeh_onload_callbacks = [];\n    root._bokeh_is_loading = undefined;\n  }\n\nconst JS_MIME_TYPE = 'application/javascript';\n  const HTML_MIME_TYPE = 'text/html';\n  const EXEC_MIME_TYPE = 'application/vnd.bokehjs_exec.v0+json';\n  const CLASS_NAME = 'output_bokeh rendered_html';\n\n  /**\n   * Render data to the DOM node\n   */\n  function render(props, node) {\n    const script = document.createElement(\"script\");\n    node.appendChild(script);\n  }\n\n  /**\n   * Handle when an output is cleared or removed\n   */\n  function handleClearOutput(event, handle) {\n    function drop(id) {\n      const view = Bokeh.index.get_by_id(id)\n      if (view != null) {\n        view.model.document.clear()\n        Bokeh.index.delete(view)\n      }\n    }\n\n    const cell = handle.cell;\n\n    const id = cell.output_area._bokeh_element_id;\n    const server_id = cell.output_area._bokeh_server_id;\n\n    // Clean up Bokeh references\n    if (id != null) {\n      drop(id)\n    }\n\n    if (server_id !== undefined) {\n      // Clean up Bokeh references\n      const cmd_clean = \"from bokeh.io.state import curstate; print(curstate().uuid_to_server['\" + server_id + \"'].get_sessions()[0].document.roots[0]._id)\";\n      cell.notebook.kernel.execute(cmd_clean, {\n        iopub: {\n          output: function(msg) {\n            const id = msg.content.text.trim()\n            drop(id)\n          }\n        }\n      });\n      // Destroy server and session\n      const cmd_destroy = \"import bokeh.io.notebook as ion; ion.destroy_server('\" + server_id + \"')\";\n      cell.notebook.kernel.execute(cmd_destroy);\n    }\n  }\n\n  /**\n   * Handle when a new output is added\n   */\n  function handleAddOutput(event, handle) {\n    const output_area = handle.output_area;\n    const output = handle.output;\n\n    // limit handleAddOutput to display_data with EXEC_MIME_TYPE content only\n    if ((output.output_type != \"display_data\") || (!Object.prototype.hasOwnProperty.call(output.data, EXEC_MIME_TYPE))) {\n      return\n    }\n\n    const toinsert = output_area.element.find(\".\" + CLASS_NAME.split(' ')[0]);\n\n    if (output.metadata[EXEC_MIME_TYPE][\"id\"] !== undefined) {\n      toinsert[toinsert.length - 1].firstChild.textContent = output.data[JS_MIME_TYPE];\n      // store reference to embed id on output_area\n      output_area._bokeh_element_id = output.metadata[EXEC_MIME_TYPE][\"id\"];\n    }\n    if (output.metadata[EXEC_MIME_TYPE][\"server_id\"] !== undefined) {\n      const bk_div = document.createElement(\"div\");\n      bk_div.innerHTML = output.data[HTML_MIME_TYPE];\n      const script_attrs = bk_div.children[0].attributes;\n      for (let i = 0; i < script_attrs.length; i++) {\n        toinsert[toinsert.length - 1].firstChild.setAttribute(script_attrs[i].name, script_attrs[i].value);\n        toinsert[toinsert.length - 1].firstChild.textContent = bk_div.children[0].textContent\n      }\n      // store reference to server id on output_area\n      output_area._bokeh_server_id = output.metadata[EXEC_MIME_TYPE][\"server_id\"];\n    }\n  }\n\n  function register_renderer(events, OutputArea) {\n\n    function append_mime(data, metadata, element) {\n      // create a DOM node to render to\n      const toinsert = this.create_output_subarea(\n        metadata,\n        CLASS_NAME,\n        EXEC_MIME_TYPE\n      );\n      this.keyboard_manager.register_events(toinsert);\n      // Render to node\n      const props = {data: data, metadata: metadata[EXEC_MIME_TYPE]};\n      render(props, toinsert[toinsert.length - 1]);\n      element.append(toinsert);\n      return toinsert\n    }\n\n    /* Handle when an output is cleared or removed */\n    events.on('clear_output.CodeCell', handleClearOutput);\n    events.on('delete.Cell', handleClearOutput);\n\n    /* Handle when a new output is added */\n    events.on('output_added.OutputArea', handleAddOutput);\n\n    /**\n     * Register the mime type and append_mime function with output_area\n     */\n    OutputArea.prototype.register_mime_type(EXEC_MIME_TYPE, append_mime, {\n      /* Is output safe? */\n      safe: true,\n      /* Index of renderer in `output_area.display_order` */\n      index: 0\n    });\n  }\n\n  // register the mime type if in Jupyter Notebook environment and previously unregistered\n  if (root.Jupyter !== undefined) {\n    const events = require('base/js/events');\n    const OutputArea = require('notebook/js/outputarea').OutputArea;\n\n    if (OutputArea.prototype.mime_types().indexOf(EXEC_MIME_TYPE) == -1) {\n      register_renderer(events, OutputArea);\n    }\n  }\n  if (typeof (root._bokeh_timeout) === \"undefined\" || force === true) {\n    root._bokeh_timeout = Date.now() + 5000;\n    root._bokeh_failed_load = false;\n  }\n\n  const NB_LOAD_WARNING = {'data': {'text/html':\n     \"<div style='background-color: #fdd'>\\n\"+\n     \"<p>\\n\"+\n     \"BokehJS does not appear to have successfully loaded. If loading BokehJS from CDN, this \\n\"+\n     \"may be due to a slow or bad network connection. Possible fixes:\\n\"+\n     \"</p>\\n\"+\n     \"<ul>\\n\"+\n     \"<li>re-rerun `output_notebook()` to attempt to load from CDN again, or</li>\\n\"+\n     \"<li>use INLINE resources instead, as so:</li>\\n\"+\n     \"</ul>\\n\"+\n     \"<code>\\n\"+\n     \"from bokeh.resources import INLINE\\n\"+\n     \"output_notebook(resources=INLINE)\\n\"+\n     \"</code>\\n\"+\n     \"</div>\"}};\n\n  function display_loaded() {\n    const el = document.getElementById(\"b62a2e43-5b23-40b2-9b50-1af159778d87\");\n    if (el != null) {\n      el.textContent = \"BokehJS is loading...\";\n    }\n    if (root.Bokeh !== undefined) {\n      if (el != null) {\n        el.textContent = \"BokehJS \" + root.Bokeh.version + \" successfully loaded.\";\n      }\n    } else if (Date.now() < root._bokeh_timeout) {\n      setTimeout(display_loaded, 100)\n    }\n  }\n\n  function run_callbacks() {\n    try {\n      root._bokeh_onload_callbacks.forEach(function(callback) {\n        if (callback != null)\n          callback();\n      });\n    } finally {\n      delete root._bokeh_onload_callbacks\n    }\n    console.debug(\"Bokeh: all callbacks have finished\");\n  }\n\n  function load_libs(css_urls, js_urls, callback) {\n    if (css_urls == null) css_urls = [];\n    if (js_urls == null) js_urls = [];\n\n    root._bokeh_onload_callbacks.push(callback);\n    if (root._bokeh_is_loading > 0) {\n      console.debug(\"Bokeh: BokehJS is being loaded, scheduling callback at\", now());\n      return null;\n    }\n    if (js_urls == null || js_urls.length === 0) {\n      run_callbacks();\n      return null;\n    }\n    console.debug(\"Bokeh: BokehJS not loaded, scheduling load and callback at\", now());\n    root._bokeh_is_loading = css_urls.length + js_urls.length;\n\n    function on_load() {\n      root._bokeh_is_loading--;\n      if (root._bokeh_is_loading === 0) {\n        console.debug(\"Bokeh: all BokehJS libraries/stylesheets loaded\");\n        run_callbacks()\n      }\n    }\n\n    function on_error(url) {\n      console.error(\"failed to load \" + url);\n    }\n\n    for (let i = 0; i < css_urls.length; i++) {\n      const url = css_urls[i];\n      const element = document.createElement(\"link\");\n      element.onload = on_load;\n      element.onerror = on_error.bind(null, url);\n      element.rel = \"stylesheet\";\n      element.type = \"text/css\";\n      element.href = url;\n      console.debug(\"Bokeh: injecting link tag for BokehJS stylesheet: \", url);\n      document.body.appendChild(element);\n    }\n\n    for (let i = 0; i < js_urls.length; i++) {\n      const url = js_urls[i];\n      const element = document.createElement('script');\n      element.onload = on_load;\n      element.onerror = on_error.bind(null, url);\n      element.async = false;\n      element.src = url;\n      console.debug(\"Bokeh: injecting script tag for BokehJS library: \", url);\n      document.head.appendChild(element);\n    }\n  };\n\n  function inject_raw_css(css) {\n    const element = document.createElement(\"style\");\n    element.appendChild(document.createTextNode(css));\n    document.body.appendChild(element);\n  }\n\n  const js_urls = [\"https://cdn.bokeh.org/bokeh/release/bokeh-3.3.4.min.js\", \"https://cdn.bokeh.org/bokeh/release/bokeh-gl-3.3.4.min.js\", \"https://cdn.bokeh.org/bokeh/release/bokeh-widgets-3.3.4.min.js\", \"https://cdn.bokeh.org/bokeh/release/bokeh-tables-3.3.4.min.js\", \"https://cdn.bokeh.org/bokeh/release/bokeh-mathjax-3.3.4.min.js\"];\n  const css_urls = [];\n\n  const inline_js = [    function(Bokeh) {\n      Bokeh.set_log_level(\"info\");\n    },\nfunction(Bokeh) {\n    }\n  ];\n\n  function run_inline_js() {\n    if (root.Bokeh !== undefined || force === true) {\n          for (let i = 0; i < inline_js.length; i++) {\n      inline_js[i].call(root, root.Bokeh);\n    }\nif (force === true) {\n        display_loaded();\n      }} else if (Date.now() < root._bokeh_timeout) {\n      setTimeout(run_inline_js, 100);\n    } else if (!root._bokeh_failed_load) {\n      console.log(\"Bokeh: BokehJS failed to load within specified timeout.\");\n      root._bokeh_failed_load = true;\n    } else if (force !== true) {\n      const cell = $(document.getElementById(\"b62a2e43-5b23-40b2-9b50-1af159778d87\")).parents('.cell').data().cell;\n      cell.output_area.append_execute_result(NB_LOAD_WARNING)\n    }\n  }\n\n  if (root._bokeh_is_loading === 0) {\n    console.debug(\"Bokeh: BokehJS loaded, going straight to plotting\");\n    run_inline_js();\n  } else {\n    load_libs(css_urls, js_urls, function() {\n      console.debug(\"Bokeh: BokehJS plotting callback run at\", now());\n      run_inline_js();\n    });\n  }\n}(window));",
      "application/vnd.bokehjs_load.v0+json": ""
     },
     "metadata": {},
     "output_type": "display_data"
    }
   ],
   "source": [
    "import pandas as pd\n",
    "import numpy as np\n",
    "import seaborn as sns\n",
    "import matplotlib.pyplot as plt\n",
    "import scipy\n",
    "\n",
    "import bokeh.plotting as bpl\n",
    "import bokeh.models as bmo\n",
    "from bokeh.plotting import figure, show, output_notebook\n",
    "from bokeh.models import ColumnDataSource, HoverTool, GroupFilter, CDSView, Legend\n",
    "from bokeh.transform import linear_cmap, factor_cmap\n",
    "from bokeh.palettes import Viridis256  \n",
    "from bokeh.io import output_notebook\n",
    "from bokeh.layouts import column\n",
    "\n",
    "from datetime import datetime\n",
    "\n",
    "output_notebook()"
   ]
  },
  {
   "cell_type": "code",
   "execution_count": 10,
   "metadata": {},
   "outputs": [
    {
     "name": "stdout",
     "output_type": "stream",
     "text": [
      "Requirement already satisfied: scipy in c:\\users\\user1\\documents\\customer_subscription_forecasting\\.conda\\lib\\site-packages (1.12.0)\n",
      "Requirement already satisfied: numpy<1.29.0,>=1.22.4 in c:\\users\\user1\\documents\\customer_subscription_forecasting\\.conda\\lib\\site-packages (from scipy) (1.26.4)\n"
     ]
    }
   ],
   "source": [
    "!pip install scipy"
   ]
  },
  {
   "cell_type": "code",
   "execution_count": 11,
   "metadata": {},
   "outputs": [
    {
     "name": "stdout",
     "output_type": "stream",
     "text": [
      "Requirement already satisfied: matplotlib in c:\\users\\user1\\documents\\customer_subscription_forecasting\\.conda\\lib\\site-packages (3.8.2)\n",
      "Requirement already satisfied: contourpy>=1.0.1 in c:\\users\\user1\\documents\\customer_subscription_forecasting\\.conda\\lib\\site-packages (from matplotlib) (1.2.0)\n",
      "Requirement already satisfied: cycler>=0.10 in c:\\users\\user1\\documents\\customer_subscription_forecasting\\.conda\\lib\\site-packages (from matplotlib) (0.12.1)\n",
      "Requirement already satisfied: fonttools>=4.22.0 in c:\\users\\user1\\documents\\customer_subscription_forecasting\\.conda\\lib\\site-packages (from matplotlib) (4.48.1)\n",
      "Requirement already satisfied: kiwisolver>=1.3.1 in c:\\users\\user1\\documents\\customer_subscription_forecasting\\.conda\\lib\\site-packages (from matplotlib) (1.4.5)\n",
      "Requirement already satisfied: numpy<2,>=1.21 in c:\\users\\user1\\documents\\customer_subscription_forecasting\\.conda\\lib\\site-packages (from matplotlib) (1.26.4)\n",
      "Requirement already satisfied: packaging>=20.0 in c:\\users\\user1\\documents\\customer_subscription_forecasting\\.conda\\lib\\site-packages (from matplotlib) (23.2)\n",
      "Requirement already satisfied: pillow>=8 in c:\\users\\user1\\documents\\customer_subscription_forecasting\\.conda\\lib\\site-packages (from matplotlib) (10.2.0)\n",
      "Requirement already satisfied: pyparsing>=2.3.1 in c:\\users\\user1\\documents\\customer_subscription_forecasting\\.conda\\lib\\site-packages (from matplotlib) (3.1.1)\n",
      "Requirement already satisfied: python-dateutil>=2.7 in c:\\users\\user1\\documents\\customer_subscription_forecasting\\.conda\\lib\\site-packages (from matplotlib) (2.8.2)\n",
      "Requirement already satisfied: six>=1.5 in c:\\users\\user1\\documents\\customer_subscription_forecasting\\.conda\\lib\\site-packages (from python-dateutil>=2.7->matplotlib) (1.16.0)\n"
     ]
    }
   ],
   "source": [
    "!pip install matplotlib"
   ]
  },
  {
   "cell_type": "code",
   "execution_count": 12,
   "metadata": {},
   "outputs": [
    {
     "name": "stdout",
     "output_type": "stream",
     "text": [
      "Requirement already satisfied: bokeh in c:\\users\\user1\\documents\\customer_subscription_forecasting\\.conda\\lib\\site-packages (3.3.4)\n",
      "Requirement already satisfied: Jinja2>=2.9 in c:\\users\\user1\\documents\\customer_subscription_forecasting\\.conda\\lib\\site-packages (from bokeh) (3.1.3)\n",
      "Requirement already satisfied: contourpy>=1 in c:\\users\\user1\\documents\\customer_subscription_forecasting\\.conda\\lib\\site-packages (from bokeh) (1.2.0)\n",
      "Requirement already satisfied: numpy>=1.16 in c:\\users\\user1\\documents\\customer_subscription_forecasting\\.conda\\lib\\site-packages (from bokeh) (1.26.4)\n",
      "Requirement already satisfied: packaging>=16.8 in c:\\users\\user1\\documents\\customer_subscription_forecasting\\.conda\\lib\\site-packages (from bokeh) (23.2)\n",
      "Requirement already satisfied: pandas>=1.2 in c:\\users\\user1\\documents\\customer_subscription_forecasting\\.conda\\lib\\site-packages (from bokeh) (2.2.0)\n",
      "Requirement already satisfied: pillow>=7.1.0 in c:\\users\\user1\\documents\\customer_subscription_forecasting\\.conda\\lib\\site-packages (from bokeh) (10.2.0)\n",
      "Requirement already satisfied: PyYAML>=3.10 in c:\\users\\user1\\documents\\customer_subscription_forecasting\\.conda\\lib\\site-packages (from bokeh) (6.0.1)\n",
      "Requirement already satisfied: tornado>=5.1 in c:\\users\\user1\\documents\\customer_subscription_forecasting\\.conda\\lib\\site-packages (from bokeh) (6.3.3)\n",
      "Requirement already satisfied: xyzservices>=2021.09.1 in c:\\users\\user1\\documents\\customer_subscription_forecasting\\.conda\\lib\\site-packages (from bokeh) (2023.10.1)\n",
      "Requirement already satisfied: MarkupSafe>=2.0 in c:\\users\\user1\\documents\\customer_subscription_forecasting\\.conda\\lib\\site-packages (from Jinja2>=2.9->bokeh) (2.1.5)\n",
      "Requirement already satisfied: python-dateutil>=2.8.2 in c:\\users\\user1\\documents\\customer_subscription_forecasting\\.conda\\lib\\site-packages (from pandas>=1.2->bokeh) (2.8.2)\n",
      "Requirement already satisfied: pytz>=2020.1 in c:\\users\\user1\\documents\\customer_subscription_forecasting\\.conda\\lib\\site-packages (from pandas>=1.2->bokeh) (2024.1)\n",
      "Requirement already satisfied: tzdata>=2022.7 in c:\\users\\user1\\documents\\customer_subscription_forecasting\\.conda\\lib\\site-packages (from pandas>=1.2->bokeh) (2024.1)\n",
      "Requirement already satisfied: six>=1.5 in c:\\users\\user1\\documents\\customer_subscription_forecasting\\.conda\\lib\\site-packages (from python-dateutil>=2.8.2->pandas>=1.2->bokeh) (1.16.0)\n"
     ]
    }
   ],
   "source": [
    "!pip install bokeh"
   ]
  },
  {
   "cell_type": "code",
   "execution_count": 13,
   "metadata": {},
   "outputs": [
    {
     "name": "stdout",
     "output_type": "stream",
     "text": [
      "Requirement already satisfied: seaborn in c:\\users\\user1\\documents\\customer_subscription_forecasting\\.conda\\lib\\site-packages (0.13.2)\n",
      "Requirement already satisfied: numpy!=1.24.0,>=1.20 in c:\\users\\user1\\documents\\customer_subscription_forecasting\\.conda\\lib\\site-packages (from seaborn) (1.26.4)\n",
      "Requirement already satisfied: pandas>=1.2 in c:\\users\\user1\\documents\\customer_subscription_forecasting\\.conda\\lib\\site-packages (from seaborn) (2.2.0)\n",
      "Requirement already satisfied: matplotlib!=3.6.1,>=3.4 in c:\\users\\user1\\documents\\customer_subscription_forecasting\\.conda\\lib\\site-packages (from seaborn) (3.8.2)\n",
      "Requirement already satisfied: contourpy>=1.0.1 in c:\\users\\user1\\documents\\customer_subscription_forecasting\\.conda\\lib\\site-packages (from matplotlib!=3.6.1,>=3.4->seaborn) (1.2.0)\n",
      "Requirement already satisfied: cycler>=0.10 in c:\\users\\user1\\documents\\customer_subscription_forecasting\\.conda\\lib\\site-packages (from matplotlib!=3.6.1,>=3.4->seaborn) (0.12.1)\n",
      "Requirement already satisfied: fonttools>=4.22.0 in c:\\users\\user1\\documents\\customer_subscription_forecasting\\.conda\\lib\\site-packages (from matplotlib!=3.6.1,>=3.4->seaborn) (4.48.1)\n",
      "Requirement already satisfied: kiwisolver>=1.3.1 in c:\\users\\user1\\documents\\customer_subscription_forecasting\\.conda\\lib\\site-packages (from matplotlib!=3.6.1,>=3.4->seaborn) (1.4.5)\n",
      "Requirement already satisfied: packaging>=20.0 in c:\\users\\user1\\documents\\customer_subscription_forecasting\\.conda\\lib\\site-packages (from matplotlib!=3.6.1,>=3.4->seaborn) (23.2)\n",
      "Requirement already satisfied: pillow>=8 in c:\\users\\user1\\documents\\customer_subscription_forecasting\\.conda\\lib\\site-packages (from matplotlib!=3.6.1,>=3.4->seaborn) (10.2.0)\n",
      "Requirement already satisfied: pyparsing>=2.3.1 in c:\\users\\user1\\documents\\customer_subscription_forecasting\\.conda\\lib\\site-packages (from matplotlib!=3.6.1,>=3.4->seaborn) (3.1.1)\n",
      "Requirement already satisfied: python-dateutil>=2.7 in c:\\users\\user1\\documents\\customer_subscription_forecasting\\.conda\\lib\\site-packages (from matplotlib!=3.6.1,>=3.4->seaborn) (2.8.2)\n",
      "Requirement already satisfied: pytz>=2020.1 in c:\\users\\user1\\documents\\customer_subscription_forecasting\\.conda\\lib\\site-packages (from pandas>=1.2->seaborn) (2024.1)\n",
      "Requirement already satisfied: tzdata>=2022.7 in c:\\users\\user1\\documents\\customer_subscription_forecasting\\.conda\\lib\\site-packages (from pandas>=1.2->seaborn) (2024.1)\n",
      "Requirement already satisfied: six>=1.5 in c:\\users\\user1\\documents\\customer_subscription_forecasting\\.conda\\lib\\site-packages (from python-dateutil>=2.7->matplotlib!=3.6.1,>=3.4->seaborn) (1.16.0)\n"
     ]
    }
   ],
   "source": [
    "!pip install seaborn"
   ]
  },
  {
   "cell_type": "code",
   "execution_count": 14,
   "metadata": {},
   "outputs": [
    {
     "name": "stdout",
     "output_type": "stream",
     "text": [
      "Requirement already satisfied: numpy in c:\\users\\user1\\documents\\customer_subscription_forecasting\\.conda\\lib\\site-packages (1.26.4)\n"
     ]
    }
   ],
   "source": [
    "!pip install numpy"
   ]
  },
  {
   "cell_type": "markdown",
   "metadata": {},
   "source": [
    "Importing the data"
   ]
  },
  {
   "cell_type": "code",
   "execution_count": 15,
   "metadata": {},
   "outputs": [
    {
     "name": "stdout",
     "output_type": "stream",
     "text": [
      "Requirement already satisfied: pandas in c:\\users\\user1\\documents\\customer_subscription_forecasting\\.conda\\lib\\site-packages (2.2.0)\n",
      "Requirement already satisfied: numpy<2,>=1.26.0 in c:\\users\\user1\\documents\\customer_subscription_forecasting\\.conda\\lib\\site-packages (from pandas) (1.26.4)\n",
      "Requirement already satisfied: python-dateutil>=2.8.2 in c:\\users\\user1\\documents\\customer_subscription_forecasting\\.conda\\lib\\site-packages (from pandas) (2.8.2)\n",
      "Requirement already satisfied: pytz>=2020.1 in c:\\users\\user1\\documents\\customer_subscription_forecasting\\.conda\\lib\\site-packages (from pandas) (2024.1)\n",
      "Requirement already satisfied: tzdata>=2022.7 in c:\\users\\user1\\documents\\customer_subscription_forecasting\\.conda\\lib\\site-packages (from pandas) (2024.1)\n",
      "Requirement already satisfied: six>=1.5 in c:\\users\\user1\\documents\\customer_subscription_forecasting\\.conda\\lib\\site-packages (from python-dateutil>=2.8.2->pandas) (1.16.0)\n"
     ]
    }
   ],
   "source": [
    "!pip install pandas"
   ]
  },
  {
   "cell_type": "code",
   "execution_count": 16,
   "metadata": {},
   "outputs": [
    {
     "name": "stdout",
     "output_type": "stream",
     "text": [
      "Collecting kaggle\n",
      "  Downloading kaggle-1.6.6.tar.gz (84 kB)\n",
      "     ---------------------------------------- 0.0/84.6 kB ? eta -:--:--\n",
      "     -------------- ------------------------- 30.7/84.6 kB ? eta -:--:--\n",
      "     -------------- ------------------------- 30.7/84.6 kB ? eta -:--:--\n",
      "     ------------------------------------ - 81.9/84.6 kB 416.7 kB/s eta 0:00:01\n",
      "     -------------------------------------- 84.6/84.6 kB 397.4 kB/s eta 0:00:00\n",
      "  Preparing metadata (setup.py): started\n",
      "  Preparing metadata (setup.py): finished with status 'done'\n",
      "Requirement already satisfied: six>=1.10 in c:\\users\\user1\\documents\\customer_subscription_forecasting\\.conda\\lib\\site-packages (from kaggle) (1.16.0)\n",
      "Collecting certifi (from kaggle)\n",
      "  Using cached certifi-2024.2.2-py3-none-any.whl.metadata (2.2 kB)\n",
      "Requirement already satisfied: python-dateutil in c:\\users\\user1\\documents\\customer_subscription_forecasting\\.conda\\lib\\site-packages (from kaggle) (2.8.2)\n",
      "Collecting requests (from kaggle)\n",
      "  Using cached requests-2.31.0-py3-none-any.whl.metadata (4.6 kB)\n",
      "Collecting tqdm (from kaggle)\n",
      "  Downloading tqdm-4.66.2-py3-none-any.whl.metadata (57 kB)\n",
      "     ---------------------------------------- 0.0/57.6 kB ? eta -:--:--\n",
      "     ---------------------------------------- 57.6/57.6 kB 3.2 MB/s eta 0:00:00\n",
      "Collecting python-slugify (from kaggle)\n",
      "  Using cached python_slugify-8.0.4-py2.py3-none-any.whl.metadata (8.5 kB)\n",
      "Collecting urllib3 (from kaggle)\n",
      "  Using cached urllib3-2.2.0-py3-none-any.whl.metadata (6.4 kB)\n",
      "Collecting bleach (from kaggle)\n",
      "  Using cached bleach-6.1.0-py3-none-any.whl.metadata (30 kB)\n",
      "Collecting webencodings (from bleach->kaggle)\n",
      "  Using cached webencodings-0.5.1-py2.py3-none-any.whl (11 kB)\n",
      "Collecting text-unidecode>=1.3 (from python-slugify->kaggle)\n",
      "  Using cached text_unidecode-1.3-py2.py3-none-any.whl (78 kB)\n",
      "Collecting charset-normalizer<4,>=2 (from requests->kaggle)\n",
      "  Using cached charset_normalizer-3.3.2-cp312-cp312-win_amd64.whl.metadata (34 kB)\n",
      "Collecting idna<4,>=2.5 (from requests->kaggle)\n",
      "  Using cached idna-3.6-py3-none-any.whl.metadata (9.9 kB)\n",
      "Requirement already satisfied: colorama in c:\\users\\user1\\documents\\customer_subscription_forecasting\\.conda\\lib\\site-packages (from tqdm->kaggle) (0.4.6)\n",
      "Using cached bleach-6.1.0-py3-none-any.whl (162 kB)\n",
      "Using cached certifi-2024.2.2-py3-none-any.whl (163 kB)\n",
      "Using cached python_slugify-8.0.4-py2.py3-none-any.whl (10 kB)\n",
      "Using cached requests-2.31.0-py3-none-any.whl (62 kB)\n",
      "Using cached urllib3-2.2.0-py3-none-any.whl (120 kB)\n",
      "Downloading tqdm-4.66.2-py3-none-any.whl (78 kB)\n",
      "   ---------------------------------------- 0.0/78.3 kB ? eta -:--:--\n",
      "   ----- ---------------------------------- 10.2/78.3 kB ? eta -:--:--\n",
      "   ------------------------------------ --- 71.7/78.3 kB 975.2 kB/s eta 0:00:01\n",
      "   ---------------------------------------- 78.3/78.3 kB 724.0 kB/s eta 0:00:00\n",
      "Using cached charset_normalizer-3.3.2-cp312-cp312-win_amd64.whl (100 kB)\n",
      "Using cached idna-3.6-py3-none-any.whl (61 kB)\n",
      "Building wheels for collected packages: kaggle\n",
      "  Building wheel for kaggle (setup.py): started\n",
      "  Building wheel for kaggle (setup.py): finished with status 'done'\n",
      "  Created wheel for kaggle: filename=kaggle-1.6.6-py3-none-any.whl size=111954 sha256=510b591bcbfdba16c9b0a2ee1d9b759176d9c9716044ab80132080b0ddf9b9c4\n",
      "  Stored in directory: c:\\users\\user1\\appdata\\local\\pip\\cache\\wheels\\16\\f0\\59\\684408dead276be2c1455b5ee141c49200ff13f2c788e04a05\n",
      "Successfully built kaggle\n",
      "Installing collected packages: webencodings, text-unidecode, urllib3, tqdm, python-slugify, idna, charset-normalizer, certifi, bleach, requests, kaggle\n",
      "Successfully installed bleach-6.1.0 certifi-2024.2.2 charset-normalizer-3.3.2 idna-3.6 kaggle-1.6.6 python-slugify-8.0.4 requests-2.31.0 text-unidecode-1.3 tqdm-4.66.2 urllib3-2.2.0 webencodings-0.5.1\n",
      "Note: you may need to restart the kernel to use updated packages.\n"
     ]
    }
   ],
   "source": [
    "pip install kaggle"
   ]
  },
  {
   "cell_type": "code",
   "execution_count": 17,
   "metadata": {},
   "outputs": [],
   "source": [
    "df = pd.read_csv('netflix_titles.csv')"
   ]
  },
  {
   "cell_type": "markdown",
   "metadata": {},
   "source": [
    "Cleaning the data"
   ]
  },
  {
   "cell_type": "code",
   "execution_count": 18,
   "metadata": {},
   "outputs": [],
   "source": [
    "# copy df and remove nans\n",
    "df1 = df.copy()\n",
    "df_clean = df1.fillna('unknown')\n",
    "\n",
    "#set new index\n",
    "df_clean['show_id'].str[0].value_counts()\n",
    "\n",
    "def remove_s(x):\n",
    "    return int(x[1:])\n",
    "\n",
    "# release year converted to int\n",
    "df_clean['release_year'] = df_clean['release_year'].astype('int')\n",
    "\n",
    "#change datetime format\n",
    "df_clean['date_added'] = pd.to_datetime(df['date_added'], format='mixed')\n",
    "\n",
    "# Removing a column\n",
    "df_clean = df_clean.drop(columns=['description'], axis=1)"
   ]
  },
  {
   "cell_type": "markdown",
   "metadata": {},
   "source": [
    "EDA / Data Visualisations"
   ]
  },
  {
   "cell_type": "markdown",
   "metadata": {},
   "source": [
    "Creating a scatterplot of release year x count"
   ]
  },
  {
   "cell_type": "code",
   "execution_count": 19,
   "metadata": {},
   "outputs": [],
   "source": [
    "df_new = df_clean.groupby(['type'])['release_year'].value_counts().reset_index()\n",
    "df_new = df_new.sort_values(by='release_year', ascending=False)"
   ]
  },
  {
   "cell_type": "code",
   "execution_count": 20,
   "metadata": {},
   "outputs": [
    {
     "data": {
      "text/html": [
       "\n",
       "  <div id=\"cb9474db-be84-4e04-8955-7843c01cf5c3\" data-root-id=\"p1001\" style=\"display: contents;\"></div>\n"
      ]
     },
     "metadata": {},
     "output_type": "display_data"
    },
    {
     "data": {
      "application/javascript": "(function(root) {\n  function embed_document(root) {\n  const docs_json = {\"0ec337da-7952-4e1a-9d8c-13695a2b8d07\":{\"version\":\"3.3.4\",\"title\":\"Bokeh Application\",\"roots\":[{\"type\":\"object\",\"name\":\"Figure\",\"id\":\"p1001\",\"attributes\":{\"width\":900,\"height\":550,\"x_range\":{\"type\":\"object\",\"name\":\"DataRange1d\",\"id\":\"p1002\"},\"y_range\":{\"type\":\"object\",\"name\":\"DataRange1d\",\"id\":\"p1003\"},\"x_scale\":{\"type\":\"object\",\"name\":\"LinearScale\",\"id\":\"p1011\"},\"y_scale\":{\"type\":\"object\",\"name\":\"LinearScale\",\"id\":\"p1012\"},\"title\":{\"type\":\"object\",\"name\":\"Title\",\"id\":\"p1004\",\"attributes\":{\"text\":\"Release years of Movies and TV Shows added to Netflix\",\"text_color\":\"black\",\"text_font_size\":\"13pt\"}},\"renderers\":[{\"type\":\"object\",\"name\":\"GlyphRenderer\",\"id\":\"p1043\",\"attributes\":{\"data_source\":{\"type\":\"object\",\"name\":\"ColumnDataSource\",\"id\":\"p1034\",\"attributes\":{\"selected\":{\"type\":\"object\",\"name\":\"Selection\",\"id\":\"p1035\",\"attributes\":{\"indices\":[],\"line_indices\":[]}},\"selection_policy\":{\"type\":\"object\",\"name\":\"UnionRenderers\",\"id\":\"p1036\"},\"data\":{\"type\":\"map\",\"entries\":[[\"index\",{\"type\":\"ndarray\",\"array\":{\"type\":\"bytes\",\"data\":\"BgAAAEwAAABJAAAABAAAAEoAAAADAAAAAQAAAEsAAABNAAAAAAAAAE4AAAACAAAATwAAAAUAAABQAAAABwAAAFIAAAAIAAAAUQAAAAkAAABUAAAACwAAAFMAAAAKAAAAVQAAAAwAAAANAAAAVgAAAA8AAABYAAAADgAAAFcAAAAQAAAAWQAAABEAAABbAAAAEgAAAFoAAAATAAAAXQAAAF4AAAAUAAAAYgAAABYAAABcAAAAGAAAAGEAAAAXAAAAYAAAABUAAABlAAAAGwAAABoAAABpAAAAaAAAAB0AAABfAAAAGQAAAGQAAAAcAAAAdgAAACEAAAAeAAAAYwAAAHUAAAAiAAAAIAAAAGcAAAAsAAAAZgAAACcAAAArAAAAdAAAACQAAAAmAAAAHwAAAHMAAAAjAAAAJQAAAHIAAAApAAAALgAAADAAAABxAAAAKgAAAC0AAAAvAAAAcAAAACgAAAA0AAAAbwAAADEAAABCAAAAQQAAADsAAAAzAAAAbgAAAEgAAABAAAAAPwAAAG0AAABHAAAAOgAAAEYAAAAyAAAARQAAADkAAAA+AAAAOAAAAD0AAABEAAAAbAAAAEMAAAA3AAAAawAAADYAAAA1AAAAPAAAAGoAAAA=\"},\"shape\":[119],\"dtype\":\"int32\",\"order\":\"little\"}],[\"type\",{\"type\":\"ndarray\",\"array\":[\"Movie\",\"TV Show\",\"TV Show\",\"Movie\",\"TV Show\",\"Movie\",\"Movie\",\"TV Show\",\"TV Show\",\"Movie\",\"TV Show\",\"Movie\",\"TV Show\",\"Movie\",\"TV Show\",\"Movie\",\"TV Show\",\"Movie\",\"TV Show\",\"Movie\",\"TV Show\",\"Movie\",\"TV Show\",\"Movie\",\"TV Show\",\"Movie\",\"Movie\",\"TV Show\",\"Movie\",\"TV Show\",\"Movie\",\"TV Show\",\"Movie\",\"TV Show\",\"Movie\",\"TV Show\",\"Movie\",\"TV Show\",\"Movie\",\"TV Show\",\"TV Show\",\"Movie\",\"TV Show\",\"Movie\",\"TV Show\",\"Movie\",\"TV Show\",\"Movie\",\"TV Show\",\"Movie\",\"TV Show\",\"Movie\",\"Movie\",\"TV Show\",\"TV Show\",\"Movie\",\"TV Show\",\"Movie\",\"TV Show\",\"Movie\",\"TV Show\",\"Movie\",\"Movie\",\"TV Show\",\"TV Show\",\"Movie\",\"Movie\",\"TV Show\",\"Movie\",\"TV Show\",\"Movie\",\"Movie\",\"TV Show\",\"Movie\",\"Movie\",\"Movie\",\"TV Show\",\"Movie\",\"Movie\",\"TV Show\",\"Movie\",\"Movie\",\"Movie\",\"TV Show\",\"Movie\",\"Movie\",\"Movie\",\"TV Show\",\"Movie\",\"Movie\",\"TV Show\",\"Movie\",\"Movie\",\"Movie\",\"Movie\",\"Movie\",\"TV Show\",\"Movie\",\"Movie\",\"Movie\",\"TV Show\",\"Movie\",\"Movie\",\"Movie\",\"Movie\",\"Movie\",\"Movie\",\"Movie\",\"Movie\",\"Movie\",\"Movie\",\"TV Show\",\"Movie\",\"Movie\",\"TV Show\",\"Movie\",\"Movie\",\"Movie\",\"TV Show\"],\"shape\":[119],\"dtype\":\"object\",\"order\":\"little\"}],[\"release_year\",{\"type\":\"ndarray\",\"array\":{\"type\":\"bytes\",\"data\":\"5QcAAOUHAADkBwAA5AcAAOMHAADjBwAA4gcAAOIHAADhBwAA4QcAAOAHAADgBwAA3wcAAN8HAADeBwAA3gcAAN0HAADdBwAA3AcAANwHAADbBwAA2wcAANoHAADaBwAA2QcAANkHAADYBwAA2AcAANcHAADXBwAA1gcAANYHAADVBwAA1QcAANQHAADUBwAA0wcAANMHAADSBwAA0gcAANEHAADRBwAA0AcAANAHAADPBwAAzwcAAM4HAADOBwAAzQcAAM0HAADMBwAAzAcAAMsHAADLBwAAygcAAMoHAADJBwAAyQcAAMgHAADIBwAAxwcAAMcHAADGBwAAxgcAAMUHAADFBwAAxAcAAMQHAADDBwAAwgcAAMIHAADBBwAAwQcAAMAHAAC/BwAAvgcAAL0HAAC9BwAAvAcAALsHAAC7BwAAugcAALkHAAC5BwAAuAcAALcHAAC2BwAAtgcAALUHAAC0BwAAtAcAALMHAACyBwAAsQcAALAHAACvBwAArwcAAK4HAACtBwAArAcAAKsHAACrBwAAqgcAAKkHAACoBwAApwcAAKYHAACkBwAAowcAAKIHAACbBwAAmgcAAJoHAACZBwAAmQcAAJgHAACXBwAAlgcAAIUHAAA=\"},\"shape\":[119],\"dtype\":\"int32\",\"order\":\"little\"}],[\"count\",{\"type\":\"ndarray\",\"array\":{\"type\":\"bytes\",\"data\":\"FQEAADsBAAC0AQAABQIAAI0BAAB5AgAA/wIAAHwBAAAJAQAA/wIAAPQAAACSAgAAogAAAI4BAABYAAAACAEAAD8AAADhAAAAQAAAAK0AAAAoAAAAkQAAACgAAACaAAAAIgAAAHYAAABxAAAAFwAAAEoAAAAOAAAAUgAAAA4AAABDAAAADQAAADcAAAAJAAAAMwAAAAoAAAAsAAAABwAAAAUAAAAoAAAABAAAACEAAAAHAAAAIAAAAAQAAAAgAAAABAAAACIAAAADAAAAFQAAABcAAAACAAAAAgAAABQAAAAEAAAAGAAAAAMAAAAUAAAAAQAAABAAAAATAAAAAwAAAAEAAAAPAAAAEAAAAAIAAAAIAAAAAgAAAAsAAAAJAAAAAQAAAAwAAAALAAAAEQAAAAEAAAAMAAAACwAAAAEAAAAKAAAABwAAAAYAAAABAAAACQAAAAcAAAAGAAAAAQAAAAoAAAAEAAAAAQAAAAUAAAACAAAAAgAAAAMAAAAEAAAAAQAAAAEAAAACAAAAAgAAAAEAAAABAAAAAwAAAAEAAAAEAAAAAQAAAAMAAAACAAAAAwAAAAIAAAABAAAAAQAAAAEAAAADAAAAAQAAAAMAAAADAAAAAgAAAAEAAAA=\"},\"shape\":[119],\"dtype\":\"int32\",\"order\":\"little\"}]]}}},\"view\":{\"type\":\"object\",\"name\":\"CDSView\",\"id\":\"p1044\",\"attributes\":{\"filter\":{\"type\":\"object\",\"name\":\"AllIndices\",\"id\":\"p1045\"}}},\"glyph\":{\"type\":\"object\",\"name\":\"Circle\",\"id\":\"p1040\",\"attributes\":{\"x\":{\"type\":\"field\",\"field\":\"release_year\"},\"y\":{\"type\":\"field\",\"field\":\"count\"},\"size\":{\"type\":\"value\",\"value\":12},\"line_color\":{\"type\":\"value\",\"value\":\"white\"},\"fill_color\":{\"type\":\"field\",\"field\":\"type\",\"transform\":{\"type\":\"object\",\"name\":\"CategoricalColorMapper\",\"id\":\"p1033\",\"attributes\":{\"palette\":[\"#758ea5\",\"#c35c55\"],\"factors\":[\"TV Show\",\"Movie\"]}}}}},\"nonselection_glyph\":{\"type\":\"object\",\"name\":\"Circle\",\"id\":\"p1041\",\"attributes\":{\"x\":{\"type\":\"field\",\"field\":\"release_year\"},\"y\":{\"type\":\"field\",\"field\":\"count\"},\"size\":{\"type\":\"value\",\"value\":12},\"line_color\":{\"type\":\"value\",\"value\":\"white\"},\"line_alpha\":{\"type\":\"value\",\"value\":0.1},\"fill_color\":{\"type\":\"field\",\"field\":\"type\",\"transform\":{\"id\":\"p1033\"}},\"fill_alpha\":{\"type\":\"value\",\"value\":0.1},\"hatch_alpha\":{\"type\":\"value\",\"value\":0.1}}},\"muted_glyph\":{\"type\":\"object\",\"name\":\"Circle\",\"id\":\"p1042\",\"attributes\":{\"x\":{\"type\":\"field\",\"field\":\"release_year\"},\"y\":{\"type\":\"field\",\"field\":\"count\"},\"size\":{\"type\":\"value\",\"value\":12},\"line_color\":{\"type\":\"value\",\"value\":\"white\"},\"line_alpha\":{\"type\":\"value\",\"value\":0.2},\"fill_color\":{\"type\":\"field\",\"field\":\"type\",\"transform\":{\"id\":\"p1033\"}},\"fill_alpha\":{\"type\":\"value\",\"value\":0.2},\"hatch_alpha\":{\"type\":\"value\",\"value\":0.2}}}}}],\"toolbar\":{\"type\":\"object\",\"name\":\"Toolbar\",\"id\":\"p1010\",\"attributes\":{\"tools\":[{\"type\":\"object\",\"name\":\"PanTool\",\"id\":\"p1023\"},{\"type\":\"object\",\"name\":\"ResetTool\",\"id\":\"p1024\"},{\"type\":\"object\",\"name\":\"BoxZoomTool\",\"id\":\"p1025\",\"attributes\":{\"overlay\":{\"type\":\"object\",\"name\":\"BoxAnnotation\",\"id\":\"p1026\",\"attributes\":{\"syncable\":false,\"level\":\"overlay\",\"visible\":false,\"left\":{\"type\":\"number\",\"value\":\"nan\"},\"right\":{\"type\":\"number\",\"value\":\"nan\"},\"top\":{\"type\":\"number\",\"value\":\"nan\"},\"bottom\":{\"type\":\"number\",\"value\":\"nan\"},\"left_units\":\"canvas\",\"right_units\":\"canvas\",\"top_units\":\"canvas\",\"bottom_units\":\"canvas\",\"line_color\":\"black\",\"line_alpha\":1.0,\"line_width\":2,\"line_dash\":[4,4],\"fill_color\":\"lightgrey\",\"fill_alpha\":0.5}}}},{\"type\":\"object\",\"name\":\"WheelZoomTool\",\"id\":\"p1031\",\"attributes\":{\"renderers\":\"auto\"}},{\"type\":\"object\",\"name\":\"TapTool\",\"id\":\"p1032\",\"attributes\":{\"renderers\":\"auto\",\"behavior\":\"inspect\"}}]}},\"left\":[{\"type\":\"object\",\"name\":\"LinearAxis\",\"id\":\"p1018\",\"attributes\":{\"ticker\":{\"type\":\"object\",\"name\":\"BasicTicker\",\"id\":\"p1019\",\"attributes\":{\"mantissas\":[1,2,5]}},\"formatter\":{\"type\":\"object\",\"name\":\"BasicTickFormatter\",\"id\":\"p1020\"},\"axis_label\":\"Count added\",\"major_label_policy\":{\"type\":\"object\",\"name\":\"AllLabels\",\"id\":\"p1021\"}}}],\"below\":[{\"type\":\"object\",\"name\":\"LinearAxis\",\"id\":\"p1013\",\"attributes\":{\"ticker\":{\"type\":\"object\",\"name\":\"BasicTicker\",\"id\":\"p1014\",\"attributes\":{\"mantissas\":[1,2,5]}},\"formatter\":{\"type\":\"object\",\"name\":\"BasicTickFormatter\",\"id\":\"p1015\"},\"axis_label\":\"Year of release\",\"major_label_policy\":{\"type\":\"object\",\"name\":\"AllLabels\",\"id\":\"p1016\"}}}],\"center\":[{\"type\":\"object\",\"name\":\"Grid\",\"id\":\"p1017\",\"attributes\":{\"axis\":{\"id\":\"p1013\"},\"grid_line_alpha\":0.1}},{\"type\":\"object\",\"name\":\"Grid\",\"id\":\"p1022\",\"attributes\":{\"dimension\":1,\"axis\":{\"id\":\"p1018\"},\"grid_line_alpha\":0.1}},{\"type\":\"object\",\"name\":\"Legend\",\"id\":\"p1046\",\"attributes\":{\"location\":\"top_left\",\"title\":\"Type\",\"label_text_font_size\":\"12px\",\"items\":[{\"type\":\"object\",\"name\":\"LegendItem\",\"id\":\"p1047\",\"attributes\":{\"label\":{\"type\":\"field\",\"field\":\"type\"},\"renderers\":[{\"id\":\"p1043\"}]}}]}}],\"background_fill_color\":\"#2d2e2e\"}}]}};\n  const render_items = [{\"docid\":\"0ec337da-7952-4e1a-9d8c-13695a2b8d07\",\"roots\":{\"p1001\":\"cb9474db-be84-4e04-8955-7843c01cf5c3\"},\"root_ids\":[\"p1001\"]}];\n  root.Bokeh.embed.embed_items_notebook(docs_json, render_items);\n  }\n  if (root.Bokeh !== undefined) {\n    embed_document(root);\n  } else {\n    let attempts = 0;\n    const timer = setInterval(function(root) {\n      if (root.Bokeh !== undefined) {\n        clearInterval(timer);\n        embed_document(root);\n      } else {\n        attempts++;\n        if (attempts > 100) {\n          clearInterval(timer);\n          console.log(\"Bokeh: ERROR: Unable to run BokehJS code because BokehJS library is missing\");\n        }\n      }\n    }, 10, root)\n  }\n})(window);",
      "application/vnd.bokehjs_exec.v0+json": ""
     },
     "metadata": {
      "application/vnd.bokehjs_exec.v0+json": {
       "id": "p1001"
      }
     },
     "output_type": "display_data"
    }
   ],
   "source": [
    "plot = figure(width=900, height=550, tools=['pan','reset','box_zoom', 'wheel_zoom', 'click'],\n",
    "              title='Release years of Movies and TV Shows added to Netflix',\n",
    "                 x_axis_label='Year of release',\n",
    "                 y_axis_label='Count added',\n",
    "                 title_location='above')\n",
    "\n",
    "plot.title.text_color = \"black\"\n",
    "# plot.title.text_font_style = \"bold\"\n",
    "plot.title.text_font_size = '13pt'\n",
    "\n",
    "plot.background_fill_color = \"#2d2e2e\"\n",
    "plot.grid.grid_line_alpha = 0.1  # Set the alpha value for grid lines\n",
    "\n",
    "# plot.border_fill_color = \"#2d2e2e\"\n",
    "\n",
    "color_mapper = factor_cmap('type', palette=['#758ea5', '#c35c55'], factors=['TV Show', 'Movie'])\n",
    "\n",
    "plot.circle('release_year', \n",
    "         'count', \n",
    "         source=df_new, \n",
    "         size=12, \n",
    "         alpha=1,\n",
    "         fill_color = color_mapper,\n",
    "         line_color='white',\n",
    "         legend_field='type')\n",
    "\n",
    "plot.legend.title = 'Type'\n",
    "plot.legend.label_text_font_size = '12px'\n",
    "plot.legend.location = 'top_left'\n",
    "\n",
    "\n",
    "show(plot)"
   ]
  },
  {
   "cell_type": "markdown",
   "metadata": {},
   "source": [
    "Defining a function to create a lineplot of date added x count added"
   ]
  },
  {
   "cell_type": "markdown",
   "metadata": {},
   "source": [
    "aggregating the data:"
   ]
  },
  {
   "cell_type": "code",
   "execution_count": 21,
   "metadata": {},
   "outputs": [],
   "source": [
    "df_new_two = df_clean.groupby(['type'])['date_added'].value_counts().reset_index()\n",
    "df_new_two = df_new_two.sort_values(by='date_added', ascending=True)"
   ]
  },
  {
   "cell_type": "code",
   "execution_count": 22,
   "metadata": {},
   "outputs": [],
   "source": [
    "df_new_three = df_new_two.copy()\n",
    "df_new_three['year'] = pd.to_datetime(df_new_three['date_added']).dt.strftime('%Y').astype(int) # Changing date structure\n",
    "df_new_three = df_new_three.drop(columns='date_added')\n",
    "df_new_three = df_new_three.groupby(['year','type'])['count'].sum().reset_index()"
   ]
  },
  {
   "cell_type": "markdown",
   "metadata": {},
   "source": [
    "Defining a function to create a lineplot:"
   ]
  },
  {
   "cell_type": "code",
   "execution_count": 23,
   "metadata": {},
   "outputs": [],
   "source": [
    "def bokeh_lineplot(data_to_plot, x_column, y_column):\n",
    "    \n",
    "    tv_show_data = data_to_plot[data_to_plot['type'] == 'TV Show']\n",
    "    movie_data = data_to_plot[data_to_plot['type'] == 'Movie']\n",
    "    \n",
    "    vis = figure(width=900, height=550, tools=['pan','reset','box_zoom', 'wheel_zoom', 'click'],\n",
    "              title='Dual lineplot showing type of title added by year',\n",
    "                 x_axis_label='Year added',\n",
    "                 y_axis_label='Count added',\n",
    "                 title_location='above')\n",
    "    \n",
    "    vis.title.text_color = \"black\"\n",
    "    vis.title.text_font_size = '13pt'\n",
    "\n",
    "    vis.background_fill_color = \"#2d2e2e\"\n",
    "    vis.grid.grid_line_alpha = 0.1  # Set the alpha value for grid lines\n",
    "    \n",
    "    tv_line = vis.line(x=tv_show_data['year'], y=tv_show_data['count'], line_color='#758ea5', legend_label='TV Show', width=5)\n",
    "        \n",
    "    movie_line = vis.line(x=movie_data['year'], y=movie_data['count'], line_color='#c35c55', legend_label='Movie', width = 5)\n",
    "                \n",
    "    vis.legend.title = 'Type'\n",
    "    vis.legend.label_text_font_size = '12px'\n",
    "    vis.legend.location = 'top_left'\n",
    "\n",
    "    \n",
    "    return(show(vis))"
   ]
  },
  {
   "cell_type": "code",
   "execution_count": 24,
   "metadata": {},
   "outputs": [
    {
     "data": {
      "text/html": [
       "\n",
       "  <div id=\"e6c5af94-88ba-42d4-bdba-b93975aa65fd\" data-root-id=\"p1051\" style=\"display: contents;\"></div>\n"
      ]
     },
     "metadata": {},
     "output_type": "display_data"
    },
    {
     "data": {
      "application/javascript": "(function(root) {\n  function embed_document(root) {\n  const docs_json = {\"37f3dbae-4b03-4acd-ae98-cbe0bf7f9afb\":{\"version\":\"3.3.4\",\"title\":\"Bokeh Application\",\"roots\":[{\"type\":\"object\",\"name\":\"Figure\",\"id\":\"p1051\",\"attributes\":{\"width\":900,\"height\":550,\"x_range\":{\"type\":\"object\",\"name\":\"DataRange1d\",\"id\":\"p1052\"},\"y_range\":{\"type\":\"object\",\"name\":\"DataRange1d\",\"id\":\"p1053\"},\"x_scale\":{\"type\":\"object\",\"name\":\"LinearScale\",\"id\":\"p1061\"},\"y_scale\":{\"type\":\"object\",\"name\":\"LinearScale\",\"id\":\"p1062\"},\"title\":{\"type\":\"object\",\"name\":\"Title\",\"id\":\"p1054\",\"attributes\":{\"text\":\"Dual lineplot showing type of title added by year\",\"text_color\":\"black\",\"text_font_size\":\"13pt\"}},\"renderers\":[{\"type\":\"object\",\"name\":\"GlyphRenderer\",\"id\":\"p1089\",\"attributes\":{\"data_source\":{\"type\":\"object\",\"name\":\"ColumnDataSource\",\"id\":\"p1083\",\"attributes\":{\"selected\":{\"type\":\"object\",\"name\":\"Selection\",\"id\":\"p1084\",\"attributes\":{\"indices\":[],\"line_indices\":[]}},\"selection_policy\":{\"type\":\"object\",\"name\":\"UnionRenderers\",\"id\":\"p1085\"},\"data\":{\"type\":\"map\",\"entries\":[[\"x\",{\"type\":\"ndarray\",\"array\":{\"type\":\"bytes\",\"data\":\"2AcAAN0HAADeBwAA3wcAAOAHAADhBwAA4gcAAOMHAADkBwAA5QcAAA==\"},\"shape\":[10],\"dtype\":\"int32\",\"order\":\"little\"}],[\"y\",{\"type\":\"ndarray\",\"array\":{\"type\":\"bytes\",\"data\":\"AQAAAAUAAAAFAAAAGgAAALAAAABdAQAAnAEAAFACAABTAgAA+QEAAA==\"},\"shape\":[10],\"dtype\":\"int32\",\"order\":\"little\"}]]}}},\"view\":{\"type\":\"object\",\"name\":\"CDSView\",\"id\":\"p1090\",\"attributes\":{\"filter\":{\"type\":\"object\",\"name\":\"AllIndices\",\"id\":\"p1091\"}}},\"glyph\":{\"type\":\"object\",\"name\":\"Line\",\"id\":\"p1086\",\"attributes\":{\"x\":{\"type\":\"field\",\"field\":\"x\"},\"y\":{\"type\":\"field\",\"field\":\"y\"},\"line_color\":\"#758ea5\",\"line_width\":5}},\"nonselection_glyph\":{\"type\":\"object\",\"name\":\"Line\",\"id\":\"p1087\",\"attributes\":{\"x\":{\"type\":\"field\",\"field\":\"x\"},\"y\":{\"type\":\"field\",\"field\":\"y\"},\"line_color\":\"#758ea5\",\"line_alpha\":0.1,\"line_width\":5}},\"muted_glyph\":{\"type\":\"object\",\"name\":\"Line\",\"id\":\"p1088\",\"attributes\":{\"x\":{\"type\":\"field\",\"field\":\"x\"},\"y\":{\"type\":\"field\",\"field\":\"y\"},\"line_color\":\"#758ea5\",\"line_alpha\":0.2,\"line_width\":5}}}},{\"type\":\"object\",\"name\":\"GlyphRenderer\",\"id\":\"p1100\",\"attributes\":{\"data_source\":{\"type\":\"object\",\"name\":\"ColumnDataSource\",\"id\":\"p1094\",\"attributes\":{\"selected\":{\"type\":\"object\",\"name\":\"Selection\",\"id\":\"p1095\",\"attributes\":{\"indices\":[],\"line_indices\":[]}},\"selection_policy\":{\"type\":\"object\",\"name\":\"UnionRenderers\",\"id\":\"p1096\"},\"data\":{\"type\":\"map\",\"entries\":[[\"x\",{\"type\":\"ndarray\",\"array\":{\"type\":\"bytes\",\"data\":\"2AcAANkHAADaBwAA2wcAANwHAADdBwAA3gcAAN8HAADgBwAA4QcAAOIHAADjBwAA5AcAAOUHAAA=\"},\"shape\":[14],\"dtype\":\"int32\",\"order\":\"little\"}],[\"y\",{\"type\":\"ndarray\",\"array\":{\"type\":\"bytes\",\"data\":\"AQAAAAIAAAABAAAADQAAAAMAAAAGAAAAEwAAADgAAAD9AAAARwMAANUEAACQBQAABAUAAOEDAAA=\"},\"shape\":[14],\"dtype\":\"int32\",\"order\":\"little\"}]]}}},\"view\":{\"type\":\"object\",\"name\":\"CDSView\",\"id\":\"p1101\",\"attributes\":{\"filter\":{\"type\":\"object\",\"name\":\"AllIndices\",\"id\":\"p1102\"}}},\"glyph\":{\"type\":\"object\",\"name\":\"Line\",\"id\":\"p1097\",\"attributes\":{\"x\":{\"type\":\"field\",\"field\":\"x\"},\"y\":{\"type\":\"field\",\"field\":\"y\"},\"line_color\":\"#c35c55\",\"line_width\":5}},\"nonselection_glyph\":{\"type\":\"object\",\"name\":\"Line\",\"id\":\"p1098\",\"attributes\":{\"x\":{\"type\":\"field\",\"field\":\"x\"},\"y\":{\"type\":\"field\",\"field\":\"y\"},\"line_color\":\"#c35c55\",\"line_alpha\":0.1,\"line_width\":5}},\"muted_glyph\":{\"type\":\"object\",\"name\":\"Line\",\"id\":\"p1099\",\"attributes\":{\"x\":{\"type\":\"field\",\"field\":\"x\"},\"y\":{\"type\":\"field\",\"field\":\"y\"},\"line_color\":\"#c35c55\",\"line_alpha\":0.2,\"line_width\":5}}}}],\"toolbar\":{\"type\":\"object\",\"name\":\"Toolbar\",\"id\":\"p1060\",\"attributes\":{\"tools\":[{\"type\":\"object\",\"name\":\"PanTool\",\"id\":\"p1073\"},{\"type\":\"object\",\"name\":\"ResetTool\",\"id\":\"p1074\"},{\"type\":\"object\",\"name\":\"BoxZoomTool\",\"id\":\"p1075\",\"attributes\":{\"overlay\":{\"type\":\"object\",\"name\":\"BoxAnnotation\",\"id\":\"p1076\",\"attributes\":{\"syncable\":false,\"level\":\"overlay\",\"visible\":false,\"left\":{\"type\":\"number\",\"value\":\"nan\"},\"right\":{\"type\":\"number\",\"value\":\"nan\"},\"top\":{\"type\":\"number\",\"value\":\"nan\"},\"bottom\":{\"type\":\"number\",\"value\":\"nan\"},\"left_units\":\"canvas\",\"right_units\":\"canvas\",\"top_units\":\"canvas\",\"bottom_units\":\"canvas\",\"line_color\":\"black\",\"line_alpha\":1.0,\"line_width\":2,\"line_dash\":[4,4],\"fill_color\":\"lightgrey\",\"fill_alpha\":0.5}}}},{\"type\":\"object\",\"name\":\"WheelZoomTool\",\"id\":\"p1081\",\"attributes\":{\"renderers\":\"auto\"}},{\"type\":\"object\",\"name\":\"TapTool\",\"id\":\"p1082\",\"attributes\":{\"renderers\":\"auto\",\"behavior\":\"inspect\"}}]}},\"left\":[{\"type\":\"object\",\"name\":\"LinearAxis\",\"id\":\"p1068\",\"attributes\":{\"ticker\":{\"type\":\"object\",\"name\":\"BasicTicker\",\"id\":\"p1069\",\"attributes\":{\"mantissas\":[1,2,5]}},\"formatter\":{\"type\":\"object\",\"name\":\"BasicTickFormatter\",\"id\":\"p1070\"},\"axis_label\":\"Count added\",\"major_label_policy\":{\"type\":\"object\",\"name\":\"AllLabels\",\"id\":\"p1071\"}}}],\"below\":[{\"type\":\"object\",\"name\":\"LinearAxis\",\"id\":\"p1063\",\"attributes\":{\"ticker\":{\"type\":\"object\",\"name\":\"BasicTicker\",\"id\":\"p1064\",\"attributes\":{\"mantissas\":[1,2,5]}},\"formatter\":{\"type\":\"object\",\"name\":\"BasicTickFormatter\",\"id\":\"p1065\"},\"axis_label\":\"Year added\",\"major_label_policy\":{\"type\":\"object\",\"name\":\"AllLabels\",\"id\":\"p1066\"}}}],\"center\":[{\"type\":\"object\",\"name\":\"Grid\",\"id\":\"p1067\",\"attributes\":{\"axis\":{\"id\":\"p1063\"},\"grid_line_alpha\":0.1}},{\"type\":\"object\",\"name\":\"Grid\",\"id\":\"p1072\",\"attributes\":{\"dimension\":1,\"axis\":{\"id\":\"p1068\"},\"grid_line_alpha\":0.1}},{\"type\":\"object\",\"name\":\"Legend\",\"id\":\"p1092\",\"attributes\":{\"location\":\"top_left\",\"title\":\"Type\",\"label_text_font_size\":\"12px\",\"items\":[{\"type\":\"object\",\"name\":\"LegendItem\",\"id\":\"p1093\",\"attributes\":{\"label\":{\"type\":\"value\",\"value\":\"TV Show\"},\"renderers\":[{\"id\":\"p1089\"}]}},{\"type\":\"object\",\"name\":\"LegendItem\",\"id\":\"p1103\",\"attributes\":{\"label\":{\"type\":\"value\",\"value\":\"Movie\"},\"renderers\":[{\"id\":\"p1100\"}]}}]}}],\"background_fill_color\":\"#2d2e2e\"}}]}};\n  const render_items = [{\"docid\":\"37f3dbae-4b03-4acd-ae98-cbe0bf7f9afb\",\"roots\":{\"p1051\":\"e6c5af94-88ba-42d4-bdba-b93975aa65fd\"},\"root_ids\":[\"p1051\"]}];\n  root.Bokeh.embed.embed_items_notebook(docs_json, render_items);\n  }\n  if (root.Bokeh !== undefined) {\n    embed_document(root);\n  } else {\n    let attempts = 0;\n    const timer = setInterval(function(root) {\n      if (root.Bokeh !== undefined) {\n        clearInterval(timer);\n        embed_document(root);\n      } else {\n        attempts++;\n        if (attempts > 100) {\n          clearInterval(timer);\n          console.log(\"Bokeh: ERROR: Unable to run BokehJS code because BokehJS library is missing\");\n        }\n      }\n    }, 10, root)\n  }\n})(window);",
      "application/vnd.bokehjs_exec.v0+json": ""
     },
     "metadata": {
      "application/vnd.bokehjs_exec.v0+json": {
       "id": "p1051"
      }
     },
     "output_type": "display_data"
    }
   ],
   "source": [
    "bokeh_lineplot(df_new_three, 'count', 'year')"
   ]
  },
  {
   "cell_type": "markdown",
   "metadata": {},
   "source": [
    "#Creating a lineplot of month x content added"
   ]
  },
  {
   "cell_type": "markdown",
   "metadata": {},
   "source": [
    "Aggregating the data:"
   ]
  },
  {
   "cell_type": "code",
   "execution_count": 25,
   "metadata": {},
   "outputs": [],
   "source": [
    "df3 = df_clean.copy()\n",
    "df3 = df3.rename(columns={\"date_added\": \"Date Added\"}) # Renaming columns\n",
    "df3['Month'] = pd.to_datetime(df3['Date Added']).dt.strftime('%m') # Changing date structure\n",
    "df4 = df3.groupby(['Month', 'type']).size().reset_index(name='Total Content') # Aggregating data"
   ]
  },
  {
   "cell_type": "code",
   "execution_count": 26,
   "metadata": {},
   "outputs": [
    {
     "data": {
      "text/html": [
       "\n",
       "  <div id=\"c3cebc37-2a94-4a72-bc12-46c7b5a9a358\" data-root-id=\"p1108\" style=\"display: contents;\"></div>\n"
      ]
     },
     "metadata": {},
     "output_type": "display_data"
    },
    {
     "data": {
      "application/javascript": "(function(root) {\n  function embed_document(root) {\n  const docs_json = {\"cdb05812-0276-4a59-a729-5f0765820724\":{\"version\":\"3.3.4\",\"title\":\"Bokeh Application\",\"roots\":[{\"type\":\"object\",\"name\":\"Figure\",\"id\":\"p1108\",\"attributes\":{\"width\":900,\"x_range\":{\"type\":\"object\",\"name\":\"DataRange1d\",\"id\":\"p1109\"},\"y_range\":{\"type\":\"object\",\"name\":\"DataRange1d\",\"id\":\"p1110\"},\"x_scale\":{\"type\":\"object\",\"name\":\"LinearScale\",\"id\":\"p1118\"},\"y_scale\":{\"type\":\"object\",\"name\":\"LinearScale\",\"id\":\"p1119\"},\"title\":{\"type\":\"object\",\"name\":\"Title\",\"id\":\"p1111\",\"attributes\":{\"text\":\"Monthly trend of TV show & Movie content added to Netflix\",\"text_color\":\"black\",\"text_font_size\":\"13pt\"}},\"renderers\":[{\"type\":\"object\",\"name\":\"GlyphRenderer\",\"id\":\"p1150\",\"attributes\":{\"data_source\":{\"type\":\"object\",\"name\":\"ColumnDataSource\",\"id\":\"p1141\",\"attributes\":{\"selected\":{\"type\":\"object\",\"name\":\"Selection\",\"id\":\"p1142\",\"attributes\":{\"indices\":[],\"line_indices\":[]}},\"selection_policy\":{\"type\":\"object\",\"name\":\"UnionRenderers\",\"id\":\"p1143\"},\"data\":{\"type\":\"map\",\"entries\":[[\"index\",{\"type\":\"ndarray\",\"array\":{\"type\":\"bytes\",\"data\":\"AAAAAAIAAAAEAAAABgAAAAgAAAAKAAAADAAAAA4AAAAQAAAAEgAAABQAAAAWAAAA\"},\"shape\":[12],\"dtype\":\"int32\",\"order\":\"little\"}],[\"Month\",{\"type\":\"ndarray\",\"array\":[\"01\",\"02\",\"03\",\"04\",\"05\",\"06\",\"07\",\"08\",\"09\",\"10\",\"11\",\"12\"],\"shape\":[12],\"dtype\":\"object\",\"order\":\"little\"}],[\"type\",{\"type\":\"ndarray\",\"array\":[\"Movie\",\"Movie\",\"Movie\",\"Movie\",\"Movie\",\"Movie\",\"Movie\",\"Movie\",\"Movie\",\"Movie\",\"Movie\",\"Movie\"],\"shape\":[12],\"dtype\":\"object\",\"order\":\"little\"}],[\"Total Content\",{\"type\":\"ndarray\",\"array\":{\"type\":\"bytes\",\"data\":\"IgIAAH4BAAARAgAAJgIAALcBAADsAQAANQIAAAcCAAAHAgAAIQIAAPIBAAAjAgAA\"},\"shape\":[12],\"dtype\":\"int32\",\"order\":\"little\"}]]}}},\"view\":{\"type\":\"object\",\"name\":\"CDSView\",\"id\":\"p1151\",\"attributes\":{\"filter\":{\"type\":\"object\",\"name\":\"AllIndices\",\"id\":\"p1152\"}}},\"glyph\":{\"type\":\"object\",\"name\":\"Line\",\"id\":\"p1147\",\"attributes\":{\"x\":{\"type\":\"field\",\"field\":\"Month\"},\"y\":{\"type\":\"field\",\"field\":\"Total Content\"},\"line_color\":\"#c35c55\",\"line_width\":2}},\"nonselection_glyph\":{\"type\":\"object\",\"name\":\"Line\",\"id\":\"p1148\",\"attributes\":{\"x\":{\"type\":\"field\",\"field\":\"Month\"},\"y\":{\"type\":\"field\",\"field\":\"Total Content\"},\"line_color\":\"#c35c55\",\"line_alpha\":0.1,\"line_width\":2}},\"muted_glyph\":{\"type\":\"object\",\"name\":\"Line\",\"id\":\"p1149\",\"attributes\":{\"x\":{\"type\":\"field\",\"field\":\"Month\"},\"y\":{\"type\":\"field\",\"field\":\"Total Content\"},\"line_color\":\"#c35c55\",\"line_alpha\":0.2,\"line_width\":2}}}},{\"type\":\"object\",\"name\":\"GlyphRenderer\",\"id\":\"p1164\",\"attributes\":{\"data_source\":{\"type\":\"object\",\"name\":\"ColumnDataSource\",\"id\":\"p1155\",\"attributes\":{\"selected\":{\"type\":\"object\",\"name\":\"Selection\",\"id\":\"p1156\",\"attributes\":{\"indices\":[],\"line_indices\":[]}},\"selection_policy\":{\"type\":\"object\",\"name\":\"UnionRenderers\",\"id\":\"p1157\"},\"data\":{\"type\":\"map\",\"entries\":[[\"index\",{\"type\":\"ndarray\",\"array\":{\"type\":\"bytes\",\"data\":\"AQAAAAMAAAAFAAAABwAAAAkAAAALAAAADQAAAA8AAAARAAAAEwAAABUAAAAXAAAA\"},\"shape\":[12],\"dtype\":\"int32\",\"order\":\"little\"}],[\"Month\",{\"type\":\"ndarray\",\"array\":[\"01\",\"02\",\"03\",\"04\",\"05\",\"06\",\"07\",\"08\",\"09\",\"10\",\"11\",\"12\"],\"shape\":[12],\"dtype\":\"object\",\"order\":\"little\"}],[\"type\",{\"type\":\"ndarray\",\"array\":[\"TV Show\",\"TV Show\",\"TV Show\",\"TV Show\",\"TV Show\",\"TV Show\",\"TV Show\",\"TV Show\",\"TV Show\",\"TV Show\",\"TV Show\",\"TV Show\"],\"shape\":[12],\"dtype\":\"object\",\"order\":\"little\"}],[\"Total Content\",{\"type\":\"ndarray\",\"array\":{\"type\":\"bytes\",\"data\":\"wAAAALUAAADVAAAA1gAAAMEAAADsAAAABgEAAOwAAAD7AAAA1wAAAM8AAAAKAQAA\"},\"shape\":[12],\"dtype\":\"int32\",\"order\":\"little\"}]]}}},\"view\":{\"type\":\"object\",\"name\":\"CDSView\",\"id\":\"p1165\",\"attributes\":{\"filter\":{\"type\":\"object\",\"name\":\"AllIndices\",\"id\":\"p1166\"}}},\"glyph\":{\"type\":\"object\",\"name\":\"Line\",\"id\":\"p1161\",\"attributes\":{\"x\":{\"type\":\"field\",\"field\":\"Month\"},\"y\":{\"type\":\"field\",\"field\":\"Total Content\"},\"line_color\":\"#758ea5\",\"line_width\":2}},\"nonselection_glyph\":{\"type\":\"object\",\"name\":\"Line\",\"id\":\"p1162\",\"attributes\":{\"x\":{\"type\":\"field\",\"field\":\"Month\"},\"y\":{\"type\":\"field\",\"field\":\"Total Content\"},\"line_color\":\"#758ea5\",\"line_alpha\":0.1,\"line_width\":2}},\"muted_glyph\":{\"type\":\"object\",\"name\":\"Line\",\"id\":\"p1163\",\"attributes\":{\"x\":{\"type\":\"field\",\"field\":\"Month\"},\"y\":{\"type\":\"field\",\"field\":\"Total Content\"},\"line_color\":\"#758ea5\",\"line_alpha\":0.2,\"line_width\":2}}}},{\"type\":\"object\",\"name\":\"GlyphRenderer\",\"id\":\"p1177\",\"attributes\":{\"data_source\":{\"type\":\"object\",\"name\":\"ColumnDataSource\",\"id\":\"p1168\",\"attributes\":{\"selected\":{\"type\":\"object\",\"name\":\"Selection\",\"id\":\"p1169\",\"attributes\":{\"indices\":[],\"line_indices\":[]}},\"selection_policy\":{\"type\":\"object\",\"name\":\"UnionRenderers\",\"id\":\"p1170\"},\"data\":{\"type\":\"map\",\"entries\":[[\"index\",{\"type\":\"ndarray\",\"array\":{\"type\":\"bytes\",\"data\":\"AAAAAAIAAAAEAAAABgAAAAgAAAAKAAAADAAAAA4AAAAQAAAAEgAAABQAAAAWAAAA\"},\"shape\":[12],\"dtype\":\"int32\",\"order\":\"little\"}],[\"Month\",{\"type\":\"ndarray\",\"array\":[\"01\",\"02\",\"03\",\"04\",\"05\",\"06\",\"07\",\"08\",\"09\",\"10\",\"11\",\"12\"],\"shape\":[12],\"dtype\":\"object\",\"order\":\"little\"}],[\"type\",{\"type\":\"ndarray\",\"array\":[\"Movie\",\"Movie\",\"Movie\",\"Movie\",\"Movie\",\"Movie\",\"Movie\",\"Movie\",\"Movie\",\"Movie\",\"Movie\",\"Movie\"],\"shape\":[12],\"dtype\":\"object\",\"order\":\"little\"}],[\"Total Content\",{\"type\":\"ndarray\",\"array\":{\"type\":\"bytes\",\"data\":\"IgIAAH4BAAARAgAAJgIAALcBAADsAQAANQIAAAcCAAAHAgAAIQIAAPIBAAAjAgAA\"},\"shape\":[12],\"dtype\":\"int32\",\"order\":\"little\"}]]}}},\"view\":{\"type\":\"object\",\"name\":\"CDSView\",\"id\":\"p1178\",\"attributes\":{\"filter\":{\"type\":\"object\",\"name\":\"AllIndices\",\"id\":\"p1179\"}}},\"glyph\":{\"type\":\"object\",\"name\":\"VArea\",\"id\":\"p1174\",\"attributes\":{\"x\":{\"type\":\"field\",\"field\":\"Month\"},\"y1\":{\"type\":\"field\",\"field\":\"Total Content\"},\"y2\":{\"type\":\"value\",\"value\":0},\"fill_color\":\"#c35c55\",\"fill_alpha\":0.9,\"hatch_alpha\":{\"type\":\"value\",\"value\":0.9}}},\"nonselection_glyph\":{\"type\":\"object\",\"name\":\"VArea\",\"id\":\"p1175\",\"attributes\":{\"x\":{\"type\":\"field\",\"field\":\"Month\"},\"y1\":{\"type\":\"field\",\"field\":\"Total Content\"},\"y2\":{\"type\":\"value\",\"value\":0},\"fill_color\":\"#c35c55\",\"fill_alpha\":0.1,\"hatch_alpha\":{\"type\":\"value\",\"value\":0.1}}},\"muted_glyph\":{\"type\":\"object\",\"name\":\"VArea\",\"id\":\"p1176\",\"attributes\":{\"x\":{\"type\":\"field\",\"field\":\"Month\"},\"y1\":{\"type\":\"field\",\"field\":\"Total Content\"},\"y2\":{\"type\":\"value\",\"value\":0},\"fill_color\":\"#c35c55\",\"fill_alpha\":0.2,\"hatch_alpha\":{\"type\":\"value\",\"value\":0.2}}}}},{\"type\":\"object\",\"name\":\"GlyphRenderer\",\"id\":\"p1189\",\"attributes\":{\"data_source\":{\"type\":\"object\",\"name\":\"ColumnDataSource\",\"id\":\"p1180\",\"attributes\":{\"selected\":{\"type\":\"object\",\"name\":\"Selection\",\"id\":\"p1181\",\"attributes\":{\"indices\":[],\"line_indices\":[]}},\"selection_policy\":{\"type\":\"object\",\"name\":\"UnionRenderers\",\"id\":\"p1182\"},\"data\":{\"type\":\"map\",\"entries\":[[\"index\",{\"type\":\"ndarray\",\"array\":{\"type\":\"bytes\",\"data\":\"AQAAAAMAAAAFAAAABwAAAAkAAAALAAAADQAAAA8AAAARAAAAEwAAABUAAAAXAAAA\"},\"shape\":[12],\"dtype\":\"int32\",\"order\":\"little\"}],[\"Month\",{\"type\":\"ndarray\",\"array\":[\"01\",\"02\",\"03\",\"04\",\"05\",\"06\",\"07\",\"08\",\"09\",\"10\",\"11\",\"12\"],\"shape\":[12],\"dtype\":\"object\",\"order\":\"little\"}],[\"type\",{\"type\":\"ndarray\",\"array\":[\"TV Show\",\"TV Show\",\"TV Show\",\"TV Show\",\"TV Show\",\"TV Show\",\"TV Show\",\"TV Show\",\"TV Show\",\"TV Show\",\"TV Show\",\"TV Show\"],\"shape\":[12],\"dtype\":\"object\",\"order\":\"little\"}],[\"Total Content\",{\"type\":\"ndarray\",\"array\":{\"type\":\"bytes\",\"data\":\"wAAAALUAAADVAAAA1gAAAMEAAADsAAAABgEAAOwAAAD7AAAA1wAAAM8AAAAKAQAA\"},\"shape\":[12],\"dtype\":\"int32\",\"order\":\"little\"}]]}}},\"view\":{\"type\":\"object\",\"name\":\"CDSView\",\"id\":\"p1190\",\"attributes\":{\"filter\":{\"type\":\"object\",\"name\":\"AllIndices\",\"id\":\"p1191\"}}},\"glyph\":{\"type\":\"object\",\"name\":\"VArea\",\"id\":\"p1186\",\"attributes\":{\"x\":{\"type\":\"field\",\"field\":\"Month\"},\"y1\":{\"type\":\"field\",\"field\":\"Total Content\"},\"y2\":{\"type\":\"value\",\"value\":0},\"fill_color\":\"#758ea5\",\"fill_alpha\":0.9,\"hatch_alpha\":{\"type\":\"value\",\"value\":0.9}}},\"nonselection_glyph\":{\"type\":\"object\",\"name\":\"VArea\",\"id\":\"p1187\",\"attributes\":{\"x\":{\"type\":\"field\",\"field\":\"Month\"},\"y1\":{\"type\":\"field\",\"field\":\"Total Content\"},\"y2\":{\"type\":\"value\",\"value\":0},\"fill_color\":\"#758ea5\",\"fill_alpha\":0.1,\"hatch_alpha\":{\"type\":\"value\",\"value\":0.1}}},\"muted_glyph\":{\"type\":\"object\",\"name\":\"VArea\",\"id\":\"p1188\",\"attributes\":{\"x\":{\"type\":\"field\",\"field\":\"Month\"},\"y1\":{\"type\":\"field\",\"field\":\"Total Content\"},\"y2\":{\"type\":\"value\",\"value\":0},\"fill_color\":\"#758ea5\",\"fill_alpha\":0.2,\"hatch_alpha\":{\"type\":\"value\",\"value\":0.2}}}}}],\"toolbar\":{\"type\":\"object\",\"name\":\"Toolbar\",\"id\":\"p1117\",\"attributes\":{\"tools\":[{\"type\":\"object\",\"name\":\"PanTool\",\"id\":\"p1130\"},{\"type\":\"object\",\"name\":\"WheelZoomTool\",\"id\":\"p1131\",\"attributes\":{\"renderers\":\"auto\"}},{\"type\":\"object\",\"name\":\"BoxZoomTool\",\"id\":\"p1132\",\"attributes\":{\"overlay\":{\"type\":\"object\",\"name\":\"BoxAnnotation\",\"id\":\"p1133\",\"attributes\":{\"syncable\":false,\"level\":\"overlay\",\"visible\":false,\"left\":{\"type\":\"number\",\"value\":\"nan\"},\"right\":{\"type\":\"number\",\"value\":\"nan\"},\"top\":{\"type\":\"number\",\"value\":\"nan\"},\"bottom\":{\"type\":\"number\",\"value\":\"nan\"},\"left_units\":\"canvas\",\"right_units\":\"canvas\",\"top_units\":\"canvas\",\"bottom_units\":\"canvas\",\"line_color\":\"black\",\"line_alpha\":1.0,\"line_width\":2,\"line_dash\":[4,4],\"fill_color\":\"lightgrey\",\"fill_alpha\":0.5}}}},{\"type\":\"object\",\"name\":\"SaveTool\",\"id\":\"p1138\"},{\"type\":\"object\",\"name\":\"ResetTool\",\"id\":\"p1139\"},{\"type\":\"object\",\"name\":\"HelpTool\",\"id\":\"p1140\"}]}},\"left\":[{\"type\":\"object\",\"name\":\"LinearAxis\",\"id\":\"p1125\",\"attributes\":{\"ticker\":{\"type\":\"object\",\"name\":\"BasicTicker\",\"id\":\"p1126\",\"attributes\":{\"mantissas\":[1,2,5]}},\"formatter\":{\"type\":\"object\",\"name\":\"BasicTickFormatter\",\"id\":\"p1127\"},\"axis_label\":\"Total Content Added\",\"major_label_policy\":{\"type\":\"object\",\"name\":\"AllLabels\",\"id\":\"p1128\"}}}],\"below\":[{\"type\":\"object\",\"name\":\"LinearAxis\",\"id\":\"p1120\",\"attributes\":{\"ticker\":{\"type\":\"object\",\"name\":\"BasicTicker\",\"id\":\"p1121\",\"attributes\":{\"mantissas\":[1,2,5]}},\"formatter\":{\"type\":\"object\",\"name\":\"BasicTickFormatter\",\"id\":\"p1122\"},\"axis_label\":\"Month\",\"major_label_policy\":{\"type\":\"object\",\"name\":\"AllLabels\",\"id\":\"p1123\"}}}],\"center\":[{\"type\":\"object\",\"name\":\"Grid\",\"id\":\"p1124\",\"attributes\":{\"axis\":{\"id\":\"p1120\"},\"grid_line_alpha\":0.7}},{\"type\":\"object\",\"name\":\"Grid\",\"id\":\"p1129\",\"attributes\":{\"dimension\":1,\"axis\":{\"id\":\"p1125\"},\"grid_line_alpha\":0.7}},{\"type\":\"object\",\"name\":\"Legend\",\"id\":\"p1153\",\"attributes\":{\"location\":\"bottom_left\",\"title\":\"Type\",\"label_text_font_size\":\"12px\",\"items\":[{\"type\":\"object\",\"name\":\"LegendItem\",\"id\":\"p1154\",\"attributes\":{\"label\":{\"type\":\"value\",\"value\":\"Movie\"},\"renderers\":[{\"id\":\"p1150\"},{\"id\":\"p1177\"}]}},{\"type\":\"object\",\"name\":\"LegendItem\",\"id\":\"p1167\",\"attributes\":{\"label\":{\"type\":\"value\",\"value\":\"TV Show\"},\"renderers\":[{\"id\":\"p1164\"},{\"id\":\"p1189\"}]}}]}}],\"background_fill_color\":\"#2d2e2e\"}}]}};\n  const render_items = [{\"docid\":\"cdb05812-0276-4a59-a729-5f0765820724\",\"roots\":{\"p1108\":\"c3cebc37-2a94-4a72-bc12-46c7b5a9a358\"},\"root_ids\":[\"p1108\"]}];\n  root.Bokeh.embed.embed_items_notebook(docs_json, render_items);\n  }\n  if (root.Bokeh !== undefined) {\n    embed_document(root);\n  } else {\n    let attempts = 0;\n    const timer = setInterval(function(root) {\n      if (root.Bokeh !== undefined) {\n        clearInterval(timer);\n        embed_document(root);\n      } else {\n        attempts++;\n        if (attempts > 100) {\n          clearInterval(timer);\n          console.log(\"Bokeh: ERROR: Unable to run BokehJS code because BokehJS library is missing\");\n        }\n      }\n    }, 10, root)\n  }\n})(window);",
      "application/vnd.bokehjs_exec.v0+json": ""
     },
     "metadata": {
      "application/vnd.bokehjs_exec.v0+json": {
       "id": "p1108"
      }
     },
     "output_type": "display_data"
    }
   ],
   "source": [
    "p = figure(width=900, height=600, x_axis_label='Month', y_axis_label='Total Content Added',\n",
    "           title='Monthly trend of TV show & Movie content added to Netflix',\n",
    "           title_location='above',\n",
    "           background_fill_color=\"#2d2e2e\")\n",
    "\n",
    "p.title.text_color = \"black\"\n",
    "p.title.text_font_size = '13pt'\n",
    "\n",
    "p.grid.grid_line_alpha = 0.7\n",
    "\n",
    "# Plot lines\n",
    "movie_source = df4[df4['type'] == 'Movie']\n",
    "tv_show_source = df4[df4['type'] == 'TV Show']\n",
    "\n",
    "movie_line = p.line(x='Month', y='Total Content', source=movie_source, line_color='#c35c55', line_width=2, legend_label='Movie')\n",
    "tv_show_line = p.line(x='Month', y='Total Content', source=tv_show_source, line_color='#758ea5', line_width=2, legend_label='TV Show')\n",
    "\n",
    "# Fill between lines\n",
    "p.varea(x='Month', y1='Total Content', y2=0, source=movie_source, fill_color=\"#c35c55\", alpha=0.9, legend_label='Movie')\n",
    "p.varea(x='Month', y1='Total Content', y2=0, source=tv_show_source, fill_color=\"#758ea5\", alpha=0.9, legend_label='TV Show')\n",
    "\n",
    "# Customize the legend\n",
    "legend = Legend(items=[(\"Movie\", [movie_line]),(\"TV Show\", [tv_show_line])])\n",
    "p.legend.title = 'Type'\n",
    "p.legend.label_text_font_size = '12px'\n",
    "p.legend.location = 'bottom_left'\n",
    "\n",
    "\n",
    "# Show the plot\n",
    "show(p)"
   ]
  }
 ],
 "metadata": {
  "kernelspec": {
   "display_name": "base",
   "language": "python",
   "name": "python3"
  },
  "language_info": {
   "codemirror_mode": {
    "name": "ipython",
    "version": 3
   },
   "file_extension": ".py",
   "mimetype": "text/x-python",
   "name": "python",
   "nbconvert_exporter": "python",
   "pygments_lexer": "ipython3",
   "version": "3.12.1"
  }
 },
 "nbformat": 4,
 "nbformat_minor": 2
}
